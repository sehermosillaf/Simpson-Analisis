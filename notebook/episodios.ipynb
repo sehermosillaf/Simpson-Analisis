{
 "cells": [
  {
   "cell_type": "code",
   "execution_count": 1,
   "metadata": {},
   "outputs": [],
   "source": [
    "#importamos las librerias\n",
    "import pandas as pd\n",
    "import numpy as np"
   ]
  },
  {
   "cell_type": "code",
   "execution_count": 2,
   "metadata": {},
   "outputs": [],
   "source": [
    "#llamamos la url donde obtendremos los datos\n",
    "df = pd.read_html('https://en.wikipedia.org/wiki/List_of_The_Simpsons_episodes_(seasons_1-20)')"
   ]
  },
  {
   "cell_type": "code",
   "execution_count": 5,
   "metadata": {},
   "outputs": [],
   "source": [
    "#transformamos el HTML a csv\n",
    "df[0].to_csv('../dataset/simpsons.csv')"
   ]
  },
  {
   "cell_type": "code",
   "execution_count": 6,
   "metadata": {},
   "outputs": [],
   "source": [
    "#leemos el csv y lo pasamos a una variable llamada data\n",
    "data = pd.read_csv('../dataset/simpsons.csv')"
   ]
  },
  {
   "cell_type": "code",
   "execution_count": 7,
   "metadata": {},
   "outputs": [
    {
     "data": {
      "text/html": [
       "<div>\n",
       "<style scoped>\n",
       "    .dataframe tbody tr th:only-of-type {\n",
       "        vertical-align: middle;\n",
       "    }\n",
       "\n",
       "    .dataframe tbody tr th {\n",
       "        vertical-align: top;\n",
       "    }\n",
       "\n",
       "    .dataframe thead th {\n",
       "        text-align: right;\n",
       "    }\n",
       "</style>\n",
       "<table border=\"1\" class=\"dataframe\">\n",
       "  <thead>\n",
       "    <tr style=\"text-align: right;\">\n",
       "      <th></th>\n",
       "      <th>Unnamed: 0</th>\n",
       "      <th>Season</th>\n",
       "      <th>Episodes</th>\n",
       "      <th>Episodes.1</th>\n",
       "      <th>Originally aired</th>\n",
       "      <th>Originally aired.1</th>\n",
       "      <th>Households / viewers</th>\n",
       "      <th>Rank</th>\n",
       "      <th>Rating</th>\n",
       "    </tr>\n",
       "  </thead>\n",
       "  <tbody>\n",
       "    <tr>\n",
       "      <th>0</th>\n",
       "      <td>NaN</td>\n",
       "      <td>Season</td>\n",
       "      <td>Episodes</td>\n",
       "      <td>Episodes.1</td>\n",
       "      <td>First aired</td>\n",
       "      <td>Last aired</td>\n",
       "      <td>Households / viewers</td>\n",
       "      <td>Rank</td>\n",
       "      <td>Rating</td>\n",
       "    </tr>\n",
       "    <tr>\n",
       "      <th>1</th>\n",
       "      <td>0.0</td>\n",
       "      <td>1</td>\n",
       "      <td>13</td>\n",
       "      <td>13</td>\n",
       "      <td>December 17, 1989</td>\n",
       "      <td>May 13, 1990</td>\n",
       "      <td>13.4m h.[n1][12]</td>\n",
       "      <td>30</td>\n",
       "      <td>14.5</td>\n",
       "    </tr>\n",
       "    <tr>\n",
       "      <th>2</th>\n",
       "      <td>1.0</td>\n",
       "      <td>2</td>\n",
       "      <td>22</td>\n",
       "      <td>22</td>\n",
       "      <td>October 11, 1990</td>\n",
       "      <td>July 11, 1991</td>\n",
       "      <td>12.2m h.[n1][n2]</td>\n",
       "      <td>38[13]</td>\n",
       "      <td>8.0</td>\n",
       "    </tr>\n",
       "    <tr>\n",
       "      <th>3</th>\n",
       "      <td>2.0</td>\n",
       "      <td>3</td>\n",
       "      <td>24</td>\n",
       "      <td>24</td>\n",
       "      <td>September 19, 1991</td>\n",
       "      <td>August 27, 1992</td>\n",
       "      <td>12.0m h.[n1][n3]</td>\n",
       "      <td>33[14]</td>\n",
       "      <td>—</td>\n",
       "    </tr>\n",
       "    <tr>\n",
       "      <th>4</th>\n",
       "      <td>3.0</td>\n",
       "      <td>4</td>\n",
       "      <td>22</td>\n",
       "      <td>22</td>\n",
       "      <td>September 24, 1992</td>\n",
       "      <td>May 13, 1993</td>\n",
       "      <td>12.1m h.[n1][15]</td>\n",
       "      <td>30</td>\n",
       "      <td>13.0</td>\n",
       "    </tr>\n",
       "  </tbody>\n",
       "</table>\n",
       "</div>"
      ],
      "text/plain": [
       "   Unnamed: 0  Season  Episodes  Episodes.1    Originally aired  \\\n",
       "0         NaN  Season  Episodes  Episodes.1         First aired   \n",
       "1         0.0       1        13          13   December 17, 1989   \n",
       "2         1.0       2        22          22    October 11, 1990   \n",
       "3         2.0       3        24          24  September 19, 1991   \n",
       "4         3.0       4        22          22  September 24, 1992   \n",
       "\n",
       "  Originally aired.1  Households / viewers    Rank  Rating  \n",
       "0         Last aired  Households / viewers    Rank  Rating  \n",
       "1       May 13, 1990      13.4m h.[n1][12]      30    14.5  \n",
       "2      July 11, 1991      12.2m h.[n1][n2]  38[13]     8.0  \n",
       "3    August 27, 1992      12.0m h.[n1][n3]  33[14]       —  \n",
       "4       May 13, 1993      12.1m h.[n1][15]      30    13.0  "
      ]
     },
     "execution_count": 7,
     "metadata": {},
     "output_type": "execute_result"
    }
   ],
   "source": [
    "#mostramos los 5 primeros registros\n",
    "data.head()"
   ]
  },
  {
   "cell_type": "markdown",
   "metadata": {},
   "source": [
    "#### Limpiando los datos"
   ]
  },
  {
   "cell_type": "code",
   "execution_count": 8,
   "metadata": {},
   "outputs": [],
   "source": [
    "#quitamos la columna unnamed, y la fila 0 que contiene informacion innecesaria\n",
    "df_clean = data.drop(['Unnamed: 0'], axis=1)\n",
    "df_clean = df_clean.drop([0])\n",
    "df_clean = df_clean.drop(['Episodes.1'], axis=1)"
   ]
  },
  {
   "cell_type": "code",
   "execution_count": null,
   "metadata": {},
   "outputs": [],
   "source": [
    "data_clean = df_clean.rename({'Season': 'Temporada', 'Episodes': 'Episodios', 'Originally aired': 'Primer lanzamiento',\n",
    "          'Originally aired.1': 'Ultimo lanzamiento', 'Households / viewers': 'Espectadores',\n",
    "          'Ranking': 'Rank', 'Rating' : 'Rating'}, axis=1)"
   ]
  },
  {
   "cell_type": "code",
   "execution_count": 9,
   "metadata": {},
   "outputs": [
    {
     "data": {
      "text/html": [
       "<div>\n",
       "<style scoped>\n",
       "    .dataframe tbody tr th:only-of-type {\n",
       "        vertical-align: middle;\n",
       "    }\n",
       "\n",
       "    .dataframe tbody tr th {\n",
       "        vertical-align: top;\n",
       "    }\n",
       "\n",
       "    .dataframe thead th {\n",
       "        text-align: right;\n",
       "    }\n",
       "</style>\n",
       "<table border=\"1\" class=\"dataframe\">\n",
       "  <thead>\n",
       "    <tr style=\"text-align: right;\">\n",
       "      <th></th>\n",
       "      <th>Season</th>\n",
       "      <th>Episodes</th>\n",
       "      <th>Originally aired</th>\n",
       "      <th>Originally aired.1</th>\n",
       "      <th>Households / viewers</th>\n",
       "      <th>Rank</th>\n",
       "      <th>Rating</th>\n",
       "    </tr>\n",
       "  </thead>\n",
       "  <tbody>\n",
       "    <tr>\n",
       "      <th>1</th>\n",
       "      <td>1</td>\n",
       "      <td>13</td>\n",
       "      <td>December 17, 1989</td>\n",
       "      <td>May 13, 1990</td>\n",
       "      <td>13.4m h.[n1][12]</td>\n",
       "      <td>30</td>\n",
       "      <td>14.5</td>\n",
       "    </tr>\n",
       "    <tr>\n",
       "      <th>2</th>\n",
       "      <td>2</td>\n",
       "      <td>22</td>\n",
       "      <td>October 11, 1990</td>\n",
       "      <td>July 11, 1991</td>\n",
       "      <td>12.2m h.[n1][n2]</td>\n",
       "      <td>38[13]</td>\n",
       "      <td>8.0</td>\n",
       "    </tr>\n",
       "    <tr>\n",
       "      <th>3</th>\n",
       "      <td>3</td>\n",
       "      <td>24</td>\n",
       "      <td>September 19, 1991</td>\n",
       "      <td>August 27, 1992</td>\n",
       "      <td>12.0m h.[n1][n3]</td>\n",
       "      <td>33[14]</td>\n",
       "      <td>—</td>\n",
       "    </tr>\n",
       "    <tr>\n",
       "      <th>4</th>\n",
       "      <td>4</td>\n",
       "      <td>22</td>\n",
       "      <td>September 24, 1992</td>\n",
       "      <td>May 13, 1993</td>\n",
       "      <td>12.1m h.[n1][15]</td>\n",
       "      <td>30</td>\n",
       "      <td>13.0</td>\n",
       "    </tr>\n",
       "    <tr>\n",
       "      <th>5</th>\n",
       "      <td>5</td>\n",
       "      <td>22</td>\n",
       "      <td>September 30, 1993</td>\n",
       "      <td>May 19, 1994</td>\n",
       "      <td>10.5m h.[n1][n4]</td>\n",
       "      <td>53[16]</td>\n",
       "      <td>—</td>\n",
       "    </tr>\n",
       "  </tbody>\n",
       "</table>\n",
       "</div>"
      ],
      "text/plain": [
       "  Season Episodes    Originally aired Originally aired.1 Households / viewers  \\\n",
       "1      1       13   December 17, 1989       May 13, 1990     13.4m h.[n1][12]   \n",
       "2      2       22    October 11, 1990      July 11, 1991     12.2m h.[n1][n2]   \n",
       "3      3       24  September 19, 1991    August 27, 1992     12.0m h.[n1][n3]   \n",
       "4      4       22  September 24, 1992       May 13, 1993     12.1m h.[n1][15]   \n",
       "5      5       22  September 30, 1993       May 19, 1994     10.5m h.[n1][n4]   \n",
       "\n",
       "     Rank Rating  \n",
       "1      30   14.5  \n",
       "2  38[13]    8.0  \n",
       "3  33[14]      —  \n",
       "4      30   13.0  \n",
       "5  53[16]      —  "
      ]
     },
     "execution_count": 9,
     "metadata": {},
     "output_type": "execute_result"
    }
   ],
   "source": [
    "#verificamos que se haya hecho la limpieza y mostramos los nuevos registros\n",
    "df_clean.head()"
   ]
  },
  {
   "cell_type": "code",
   "execution_count": 10,
   "metadata": {},
   "outputs": [],
   "source": [
    "ratings = np.max(df_clean['Rating'])"
   ]
  },
  {
   "cell_type": "code",
   "execution_count": 11,
   "metadata": {},
   "outputs": [
    {
     "data": {
      "text/plain": [
       "'—'"
      ]
     },
     "execution_count": 11,
     "metadata": {},
     "output_type": "execute_result"
    }
   ],
   "source": [
    "#TODO:Reemplazar '-' por 0 en Ratings\n",
    "ratings"
   ]
  }
 ],
 "metadata": {
  "kernelspec": {
   "display_name": "Python 3 (ipykernel)",
   "language": "python",
   "name": "python3"
  },
  "language_info": {
   "codemirror_mode": {
    "name": "ipython",
    "version": 3
   },
   "file_extension": ".py",
   "mimetype": "text/x-python",
   "name": "python",
   "nbconvert_exporter": "python",
   "pygments_lexer": "ipython3",
   "version": "3.10.6"
  },
  "vscode": {
   "interpreter": {
    "hash": "3618e42ad8c8d1dba39047f9eaea0e10a48995506d76443f2392a90314872484"
   }
  }
 },
 "nbformat": 4,
 "nbformat_minor": 4
}
